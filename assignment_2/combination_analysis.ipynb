{
 "cells": [
  {
   "cell_type": "markdown",
   "metadata": {},
   "source": [
    "# Product Analysis: Two-Product Combinations (Excluding CIGARETTES)\n",
    "\n",
    "This notebook performs an analysis of two-product combinations in invoices, excluding products from the **CIGARETTES** megacategory. Additionally, the average revenue and quantity of **WAFERS** are calculated for each store type."
   ]
  },
  {
   "cell_type": "code",
   "execution_count": 1,
   "metadata": {},
   "outputs": [],
   "source": [
    "# Import Libraries\n",
    "import pandas as pd\n",
    "from collections import defaultdict"
   ]
  },
  {
   "cell_type": "markdown",
   "metadata": {},
   "source": [
    "## Step 1: Load Data\n",
    "We begin by loading the data from the provided Excel file. The file contains three sheets: **Categories**, **Stores**, and **Transactions**. These sheets will be loaded into Pandas DataFrames."
   ]
  },
  {
   "cell_type": "code",
   "execution_count": 2,
   "metadata": {},
   "outputs": [],
   "source": [
    "# Read Excel sheets\n",
    "file_path = 'University Dataset 2024.xlsx'\n",
    "\n",
    "df_categories = pd.read_excel(file_path, sheet_name='Categories')\n",
    "df_stores = pd.read_excel(file_path, sheet_name='Stores')\n",
    "df_transactions = pd.read_excel(file_path, sheet_name='Transactions')"
   ]
  },
  {
   "cell_type": "markdown",
   "metadata": {},
   "source": [
    "## Step 2: Exclude 'CIGARETTES' Megacategory\n",
    "We identify and exclude subcategories that belong to the **CIGARETTES** megacategory, as it dominates the transactions."
   ]
  },
  {
   "cell_type": "code",
   "execution_count": 3,
   "metadata": {},
   "outputs": [],
   "source": [
    "# Identify subcategories belonging to the 'CIGARETTES' Megacategory\n",
    "excluded_subcategories = df_categories[df_categories['Megacategory'] == 'CIGARETTES']['Subcategory'].tolist()\n",
    "\n",
    "# Exclude transactions containing these subcategories\n",
    "df_filtered_transactions = df_transactions[~df_transactions['Subcategory'].isin(excluded_subcategories)]"
   ]
  },
  {
   "cell_type": "markdown",
   "metadata": {},
   "source": [
    "## Step 3: Merge Transactions with Store Types\n",
    "We now merge the filtered transactions with the store types information from the **Stores** sheet."
   ]
  },
  {
   "cell_type": "code",
   "execution_count": 4,
   "metadata": {},
   "outputs": [],
   "source": [
    "# Merge Transactions with Store Types\n",
    "df_merged = df_filtered_transactions.merge(df_stores, on='StoreId', how='left')"
   ]
  },
  {
   "cell_type": "markdown",
   "metadata": {},
   "source": [
    "## Step 4: Analyze Two-Product Combinations Per Store Type\n",
    "We analyze the transactions to find two-product combinations in invoices. For each store type, we extract invoices containing exactly two products and count the frequency of each unique combination of products."
   ]
  },
  {
   "cell_type": "code",
   "execution_count": 5,
   "metadata": {},
   "outputs": [
    {
     "name": "stdout",
     "output_type": "stream",
     "text": [
      "\n",
      "Most Frequent Two-Product Combinations in Kiosk (Excluding CIGARETTES):\n",
      "           Product1        Product2  Frequency\n",
      "527    CHEWING GUMS          WAFERS       1005\n",
      "35     ENERGY DRINK  NATURAL WATER         518\n",
      "88            COLAS          WAFERS        501\n",
      "161    ENERGY DRINK          WAFERS        493\n",
      "440       CROISSANT          WAFERS        480\n",
      "156  NATURAL WATER           WAFERS        456\n",
      "19            COLAS  NATURAL WATER         422\n",
      "78            BEERS          CHIPS         394\n",
      "66            BEERS           COLAS        392\n",
      "53            COLAS         FLAVORS        363\n",
      "\n",
      "Most Frequent Two-Product Combinations in Mini-Market (Excluding CIGARETTES):\n",
      "         Product1        Product2  Frequency\n",
      "8    ENERGY DRINK  NATURAL WATER         655\n",
      "9           BEERS          CHIPS         586\n",
      "550  CHEWING GUMS  NATURAL WATER         576\n",
      "127        CHIPS        EXTRUDED         484\n",
      "70          COLAS         TABLETS        467\n",
      "122         COLAS         FLAVORS        467\n",
      "59          BEERS           COLAS        456\n",
      "324         COLAS  NATURAL WATER         423\n",
      "314        CHIPS            COLAS        420\n",
      "84          BEERS  NATURAL WATER         410\n"
     ]
    }
   ],
   "source": [
    "# Dictionary to store results per store type\n",
    "store_type_results = {}\n",
    "\n",
    "# Analyze transactions for each store type\n",
    "for store_type, df_store in df_merged.groupby('StoreType'): \n",
    "    # Get invoices with exactly two products\n",
    "    invoice_counts = df_store.groupby('InvoiceGlobalId')['Subcategory'].count()\n",
    "    two_product_invoices = invoice_counts[invoice_counts == 2].index\n",
    "    \n",
    "    df_filtered = df_store[df_store['InvoiceGlobalId'].isin(two_product_invoices)]\n",
    "    \n",
    "    # Group by invoice and get product pairs\n",
    "    basket_combinations = df_filtered.groupby('InvoiceGlobalId')['Subcategory'].agg(list)\n",
    "    product_pairs = defaultdict(int)\n",
    "\n",
    "    for basket in basket_combinations:\n",
    "        if len(basket) == 2:\n",
    "            pair = tuple(sorted(basket))  # Sort to avoid duplicates\n",
    "            product_pairs[pair] += 1\n",
    "\n",
    "    # Create DataFrame from results\n",
    "    chemistry_df = pd.DataFrame([(k[0], k[1], v) for k, v in product_pairs.items()],\n",
    "                                columns=['Product1', 'Product2', 'Frequency'])\n",
    "    \n",
    "    chemistry_df = chemistry_df.sort_values('Frequency', ascending=False)\n",
    "    store_type_results[store_type] = chemistry_df\n",
    "\n",
    "    # Print top results for each store type\n",
    "    print(f\"\\nMost Frequent Two-Product Combinations in {store_type} (Excluding CIGARETTES):\")\n",
    "    print(chemistry_df.head(10))"
   ]
  },
  {
   "cell_type": "markdown",
   "id": "524b6289",
   "metadata": {},
   "source": [
    "WAFERS appear prominently in the most frequent two-product combinations in **Kiosks**, but they do not show up in **Mini-Markets**. In Kiosk transactions, they are frequently paired with products like Chewing Gums, Energy Drinks, and Colas. These combinations suggest that WAFERS are a popular impulse item in Kiosks, particularly alongside snacks and drinks."
   ]
  },
  {
   "cell_type": "markdown",
   "metadata": {},
   "source": [
    "## Step 5: Calculate Average Revenue and Quantity for WAFERS\n",
    "For each store type, we calculate the average revenue and quantity for **WAFERS** products."
   ]
  },
  {
   "cell_type": "code",
   "execution_count": 6,
   "metadata": {},
   "outputs": [
    {
     "name": "stdout",
     "output_type": "stream",
     "text": [
      "\n",
      "Average Revenue of WAFERS in Kiosk: 0.97\n",
      "Average Quantity of WAFERS in Kiosk: 1.78\n",
      "\n",
      "Average Revenue of WAFERS in Mini-Market: 1.41\n",
      "Average Quantity of WAFERS in Mini-Market: 1.56\n"
     ]
    }
   ],
   "source": [
    "# Calculate average revenue and quantity of WAFERS per store type\n",
    "for store_type, df_store in df_merged.groupby('StoreType'): \n",
    "    wafers_transactions = df_store[df_store['Subcategory'] == 'WAFERS']\n",
    "    avg_revenue = wafers_transactions['Revenue'].mean()\n",
    "    avg_quantity = wafers_transactions['Quantity'].mean()\n",
    "    \n",
    "    print(f\"\\nAverage Revenue of WAFERS in {store_type}: {avg_revenue:.2f}\")\n",
    "    print(f\"Average Quantity of WAFERS in {store_type}: {avg_quantity:.2f}\")"
   ]
  },
  {
   "cell_type": "markdown",
   "id": "ded94c55",
   "metadata": {},
   "source": [
    "In the **Kiosk**, the average revenue for WAFERS is relatively low compared to other products, but they are sold in larger quantities. In **Mini-Markets**, WAFERS do not appear in the top combinations, which suggests they are either not as popular or are positioned differently within the store."
   ]
  },
  {
   "cell_type": "markdown",
   "metadata": {},
   "source": [
    "### Conclusion\n",
    "\n",
    "For **Kiosks**, businesses should continue focusing on **high-volume sales** for WAFERS, possibly through **bundles or combo offers** with other frequently purchased items like Chewing Gums, Energy Drinks, and Colas. These combos could be priced attractively to encourage impulse buys and increase the volume of WAFERS sold.\n",
    "\n",
    "For **Mini-Markets**, even though WAFERS aren’t part of the most common product combinations, it’s still worth considering **promotions or bundles** that include WAFERS with products that are often paired with them in Kiosks. This approach will not only make WAFERS more appealing to customers by offering better value but also encourage cross-selling with complementary products that drive additional sales. By offering similar pairings like **WAFERS with Chewing Gums** or **WAFERS with Energy Drinks**, Mini-Markets could potentially stimulate demand for WAFERS and tap into the customer base that already purchases these combinations in Kiosks. This strategy could help boost WAFERS sales and increase overall store traffic."
   ]
  }
 ],
 "metadata": {
  "kernelspec": {
   "display_name": "Python 3",
   "language": "python",
   "name": "python3"
  },
  "language_info": {
   "codemirror_mode": {
    "name": "ipython",
    "version": 3
   },
   "file_extension": ".py",
   "mimetype": "text/x-python",
   "name": "python",
   "nbconvert_exporter": "python",
   "pygments_lexer": "ipython3",
   "version": "3.12.6"
  }
 },
 "nbformat": 4,
 "nbformat_minor": 5
}
