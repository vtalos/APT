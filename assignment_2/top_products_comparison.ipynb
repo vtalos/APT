{
 "cells": [
  {
   "cell_type": "markdown",
   "metadata": {},
   "source": [
    "# Sales Data Analysis\n",
    "\n",
    "This notebook analyzes sales data from Kiosks and Mini-Markets. It identifies the top-selling subcategories, compares unique subcategories between store types, and finds frequently bought-together products."
   ]
  },
  {
   "cell_type": "code",
   "execution_count": 1,
   "metadata": {},
   "outputs": [],
   "source": [
    "import pandas as pd\n",
    "\n",
    "# Load the Excel file\n",
    "file_path = 'University Dataset 2024.xlsx'\n",
    "xls = pd.ExcelFile(file_path)\n",
    "\n",
    "# Read sheets\n",
    "df_categories = pd.read_excel(xls, 'Categories')\n",
    "df_stores = pd.read_excel(xls, 'Stores')\n",
    "df_transactions = pd.read_excel(xls, 'Transactions')"
   ]
  },
  {
   "cell_type": "markdown",
   "metadata": {},
   "source": [
    "## Data Preprocessing\n",
    "Merging the transactions dataset with store types to allow for store-specific analysis."
   ]
  },
  {
   "cell_type": "code",
   "execution_count": 2,
   "metadata": {},
   "outputs": [],
   "source": [
    "# Merge transactions with store types\n",
    "df_transactions = df_transactions.merge(df_stores, on='StoreId', how='left')\n",
    "\n",
    "# Group by store type and subcategory to get total quantities and revenues\n",
    "df_grouped = df_transactions.groupby(['StoreType', 'Subcategory']).agg(\n",
    "    total_quantity=('Quantity', 'sum'),\n",
    "    total_revenue=('Revenue', 'sum')\n",
    ").reset_index()"
   ]
  },
  {
   "cell_type": "markdown",
   "metadata": {},
   "source": [
    "## Function to Retrieve Top 10 Subcategories\n",
    "The function below retrieves the top 10 selling subcategories by quantity for a specified store type."
   ]
  },
  {
   "cell_type": "code",
   "execution_count": 3,
   "metadata": {},
   "outputs": [],
   "source": [
    "def get_top_10(store_type):\n",
    "    ''' Get top 10 selling subcategories by quantity for a given store type '''\n",
    "    df_filtered = df_grouped[df_grouped['StoreType'] == store_type]\n",
    "    df_filtered = df_filtered.sort_values(by='total_quantity', ascending=False)\n",
    "    total_quantity_all = df_filtered['total_quantity'].sum()\n",
    "    df_filtered['proportion'] = df_filtered['total_quantity'] / total_quantity_all\n",
    "    return df_filtered.head(10)"
   ]
  },
  {
   "cell_type": "markdown",
   "metadata": {},
   "source": [
    "## Identifying Top 10 Subcategories\n",
    "We apply the function to extract the top 10 subcategories for Kiosks and Mini-Markets."
   ]
  },
  {
   "cell_type": "code",
   "execution_count": 8,
   "metadata": {},
   "outputs": [
    {
     "name": "stdout",
     "output_type": "stream",
     "text": [
      "Top 10 Subcategories for Kiosks:\n",
      "        Subcategory  proportion\n",
      "18       CIGARETTES    0.232275\n",
      "52           HEATED    0.093943\n",
      "2             BEERS    0.060562\n",
      "130          WAFERS    0.053521\n",
      "101  ROLLING PAPERS    0.050865\n",
      "100   ROLL YOUR OWN    0.039255\n",
      "74   NATURAL WATER     0.036101\n",
      "35     ENERGY DRINK    0.035790\n",
      "23            COLAS    0.034969\n",
      "19       CIGARILLOS    0.034646\n",
      "\n",
      "Top 10 Subcategories for Mini-Markets:\n",
      "        Subcategory  proportion\n",
      "153      CIGARETTES    0.185428\n",
      "189          HEATED    0.110687\n",
      "136           BEERS    0.052088\n",
      "239  ROLLING PAPERS    0.042758\n",
      "212  NATURAL WATER     0.037702\n",
      "238   ROLL YOUR OWN    0.035246\n",
      "158           COLAS    0.031176\n",
      "170    ENERGY DRINK    0.028039\n",
      "176         FILTERS    0.026021\n",
      "148          CHIPS     0.024266\n"
     ]
    }
   ],
   "source": [
    "# Get top 10 subcategories for Kiosks and Mini-Markets\n",
    "kiosk_top_10 = get_top_10('Kiosk')\n",
    "mini_market_top_10 = get_top_10('Mini-Market')\n",
    "\n",
    "# Print the top 10 subcategories for Kiosks\n",
    "print(\"Top 10 Subcategories for Kiosks:\")\n",
    "print(kiosk_top_10[['Subcategory', 'proportion']])\n",
    "\n",
    "# Print the top 10 subcategories for Mini-Markets\n",
    "print(\"\\nTop 10 Subcategories for Mini-Markets:\")\n",
    "print(mini_market_top_10[['Subcategory', 'proportion']])"
   ]
  },
  {
   "cell_type": "markdown",
   "metadata": {},
   "source": [
    "## Comparing Unique Subcategories\n",
    "We identify subcategories that appear exclusively in the top 10 list of either Kiosks or Mini-Markets."
   ]
  },
  {
   "cell_type": "code",
   "execution_count": 5,
   "metadata": {},
   "outputs": [
    {
     "name": "stdout",
     "output_type": "stream",
     "text": [
      "Subcategories in Kiosks top 10 but not in Mini-Markets: {'WAFERS', 'CIGARILLOS'}\n",
      "Subcategories in Mini-Markets top 10 but not in Kiosks: {'FILTERS', 'CHIPS '}\n"
     ]
    }
   ],
   "source": [
    "# Find unique subcategories in each top-10\n",
    "kiosk_unique = set(kiosk_top_10['Subcategory']) - set(mini_market_top_10['Subcategory'])\n",
    "mini_market_unique = set(mini_market_top_10['Subcategory']) - set(kiosk_top_10['Subcategory'])\n",
    "\n",
    "print('Subcategories in Kiosks top 10 but not in Mini-Markets:', kiosk_unique)\n",
    "print('Subcategories in Mini-Markets top 10 but not in Kiosks:', mini_market_unique)"
   ]
  },
  {
   "cell_type": "markdown",
   "metadata": {},
   "source": [
    "## Analyzing Kiosk-Specific Subcategories\n",
    "For each unique subcategory in Kiosks, we compare sales proportions and revenue per unit with Mini-Markets.\n",
    "We also find the top 10 products frequently bought together with these subcategories."
   ]
  },
  {
   "cell_type": "code",
   "execution_count": 6,
   "metadata": {},
   "outputs": [
    {
     "name": "stdout",
     "output_type": "stream",
     "text": [
      "Subcategory: WAFERS\n",
      "  - Kiosk proportion: 0.0535\n",
      "  - Mini-Market proportion: 0.0106\n",
      "  - Kiosk avg revenue per unit: 0.55\n",
      "  - Mini-Market avg revenue per unit: 0.91\n",
      "\n",
      "  - Top 10 products bought together:\n",
      "Subcategory\n",
      "CIGARETTES        2100\n",
      "CHEWING GUMS      1941\n",
      "COLAS             1407\n",
      "CROISSANT         1387\n",
      "ENERGY DRINK      1270\n",
      "NATURAL WATER     1047\n",
      "DESSERT            790\n",
      "CAKE               710\n",
      "COUNTLINES         581\n",
      "FLAVORS            545\n",
      "Name: count, dtype: int64\n",
      "\n",
      "Subcategory: CIGARILLOS\n",
      "  - Kiosk proportion: 0.0346\n",
      "  - Mini-Market proportion: 0.0233\n",
      "  - Kiosk avg revenue per unit: 2.08\n",
      "  - Mini-Market avg revenue per unit: 2.26\n",
      "\n",
      "  - Top 10 products bought together:\n",
      "Subcategory\n",
      "CIGARETTES                  1090\n",
      "BEERS                        435\n",
      "REST TOBACCO ACCESSORIES     326\n",
      "HEATED                       249\n",
      "COLAS                        247\n",
      "WAFERS                       236\n",
      "ROLLING PAPERS               230\n",
      "FILTERS                      178\n",
      "ENERGY DRINK                 175\n",
      "ROLL YOUR OWN                158\n",
      "Name: count, dtype: int64\n",
      "\n"
     ]
    }
   ],
   "source": [
    "# Analyze kiosk-specific top subcategories\n",
    "for subcategory in kiosk_unique:\n",
    "    kiosk_data = kiosk_top_10[kiosk_top_10['Subcategory'] == subcategory]\n",
    "    mini_market_data = df_grouped[(df_grouped['StoreType'] == 'Mini-Market') & (df_grouped['Subcategory'] == subcategory)]\n",
    "    \n",
    "    kiosk_proportion = kiosk_data['proportion'].values[0]\n",
    "    mini_market_proportion = mini_market_data['total_quantity'].sum() / df_grouped[df_grouped['StoreType'] == 'Mini-Market']['total_quantity'].sum()\n",
    "    kiosk_avg_revenue = kiosk_data['total_revenue'].values[0] / kiosk_data['total_quantity'].values[0]\n",
    "    mini_market_avg_revenue = mini_market_data['total_revenue'].sum() / mini_market_data['total_quantity'].sum() if mini_market_data['total_quantity'].sum() > 0 else 0\n",
    "    \n",
    "    print(f'Subcategory: {subcategory}')\n",
    "    print(f'  - Kiosk proportion: {kiosk_proportion:.4f}')\n",
    "    print(f'  - Mini-Market proportion: {mini_market_proportion:.4f}')\n",
    "    print(f'  - Kiosk avg revenue per unit: {kiosk_avg_revenue:.2f}')\n",
    "    print(f'  - Mini-Market avg revenue per unit: {mini_market_avg_revenue:.2f}')\n",
    "    \n",
    "    # Find top 10 most frequent products bought together\n",
    "    invoices_with_subcategory = df_transactions[(df_transactions['StoreType'] == 'Kiosk') & (df_transactions['Subcategory'] == subcategory)]['InvoiceGlobalId']\n",
    "    df_combined = df_transactions[(df_transactions['StoreType'] == 'Kiosk') & (df_transactions['InvoiceGlobalId'].isin(invoices_with_subcategory))]\n",
    "    top_combined = df_combined[df_combined['Subcategory'] != subcategory]['Subcategory'].value_counts().head(10)\n",
    "    print()\n",
    "    print('  - Top 10 products bought together:')\n",
    "    print(top_combined)\n",
    "    print()"
   ]
  },
  {
   "cell_type": "code",
   "execution_count": 7,
   "metadata": {},
   "outputs": [
    {
     "name": "stdout",
     "output_type": "stream",
     "text": [
      "Subcategory: FILTERS\n",
      "  - Mini-Market proportion: 0.0260\n",
      "  - Kiosk proportion: 0.0295\n",
      "  - Mini-Market avg revenue per unit: 0.79\n",
      "  - Kiosk avg revenue per unit: 0.76\n",
      "\n",
      "  - Top 10 products bought together:\n",
      "Subcategory\n",
      "ROLLING PAPERS              14038\n",
      "ROLL YOUR OWN               11361\n",
      "CIGARETTES                   1234\n",
      "REST TOBACCO ACCESSORIES     1165\n",
      "BEERS                         622\n",
      "HEATED                        596\n",
      "COLAS                         588\n",
      "ENERGY DRINK                  568\n",
      "NATURAL WATER                 478\n",
      "TABLETS                       399\n",
      "Name: count, dtype: int64\n",
      "\n",
      "Subcategory: CHIPS \n",
      "  - Mini-Market proportion: 0.0243\n",
      "  - Kiosk proportion: 0.0174\n",
      "  - Mini-Market avg revenue per unit: 1.94\n",
      "  - Kiosk avg revenue per unit: 1.79\n",
      "\n",
      "  - Top 10 products bought together:\n",
      "Subcategory\n",
      "EXTRUDED          2068\n",
      "COLAS             1839\n",
      "TABLETS           1504\n",
      "CIGARETTES        1478\n",
      "BEERS             1344\n",
      "FLAVORS           1102\n",
      "HEATED            1072\n",
      "COUNTLINES         954\n",
      "ENERGY DRINK       855\n",
      "NATURAL WATER      839\n",
      "Name: count, dtype: int64\n",
      "\n"
     ]
    }
   ],
   "source": [
    "# Analyze mini-market-specific top subcategories\n",
    "for subcategory in mini_market_unique:\n",
    "    mini_market_data = mini_market_top_10[mini_market_top_10['Subcategory'] == subcategory]\n",
    "    kiosk_data = df_grouped[(df_grouped['StoreType'] == 'Kiosk') & (df_grouped['Subcategory'] == subcategory)]\n",
    "    \n",
    "    mini_market_proportion = mini_market_data['proportion'].values[0]\n",
    "    kiosk_proportion = kiosk_data['total_quantity'].sum() / df_grouped[df_grouped['StoreType'] == 'Kiosk']['total_quantity'].sum()\n",
    "    mini_market_avg_revenue = mini_market_data['total_revenue'].values[0] / mini_market_data['total_quantity'].values[0]\n",
    "    kiosk_avg_revenue = kiosk_data['total_revenue'].sum() / kiosk_data['total_quantity'].sum() if kiosk_data['total_quantity'].sum() > 0 else 0\n",
    "    \n",
    "    print(f'Subcategory: {subcategory}')\n",
    "    print(f'  - Mini-Market proportion: {mini_market_proportion:.4f}')\n",
    "    print(f'  - Kiosk proportion: {kiosk_proportion:.4f}')\n",
    "    print(f'  - Mini-Market avg revenue per unit: {mini_market_avg_revenue:.2f}')\n",
    "    print(f'  - Kiosk avg revenue per unit: {kiosk_avg_revenue:.2f}')\n",
    "    \n",
    "    # Find top 10 most frequent products bought together\n",
    "    invoices_with_subcategory = df_transactions[(df_transactions['StoreType'] == 'Mini-Market') & (df_transactions['Subcategory'] == subcategory)]['InvoiceGlobalId']\n",
    "    df_combined = df_transactions[(df_transactions['StoreType'] == 'Mini-Market') & (df_transactions['InvoiceGlobalId'].isin(invoices_with_subcategory))]\n",
    "    top_combined = df_combined[df_combined['Subcategory'] != subcategory]['Subcategory'].value_counts().head(10)\n",
    "    print()\n",
    "    print('  - Top 10 products bought together:')\n",
    "    print(top_combined)\n",
    "    print()"
   ]
  }
 ],
 "metadata": {
  "kernelspec": {
   "display_name": "Python 3",
   "language": "python",
   "name": "python3"
  },
  "language_info": {
   "codemirror_mode": {
    "name": "ipython",
    "version": 3
   },
   "file_extension": ".py",
   "mimetype": "text/x-python",
   "name": "python",
   "nbconvert_exporter": "python",
   "pygments_lexer": "ipython3",
   "version": "3.12.6"
  }
 },
 "nbformat": 4,
 "nbformat_minor": 2
}
